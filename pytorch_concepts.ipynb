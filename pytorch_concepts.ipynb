{
  "nbformat": 4,
  "nbformat_minor": 0,
  "metadata": {
    "colab": {
      "provenance": [],
      "authorship_tag": "ABX9TyPJ7T1esfAEQi9Jf0PDzTFs",
      "include_colab_link": true
    },
    "kernelspec": {
      "name": "python3",
      "display_name": "Python 3"
    },
    "language_info": {
      "name": "python"
    }
  },
  "cells": [
    {
      "cell_type": "markdown",
      "metadata": {
        "id": "view-in-github",
        "colab_type": "text"
      },
      "source": [
        "<a href=\"https://colab.research.google.com/github/taruvaid/Fourier-Neural-Operators/blob/main/pytorch_concepts.ipynb\" target=\"_parent\"><img src=\"https://colab.research.google.com/assets/colab-badge.svg\" alt=\"Open In Colab\"/></a>"
      ]
    },
    {
      "cell_type": "code",
      "execution_count": 1,
      "metadata": {
        "id": "XNkRxm8HsuJZ"
      },
      "outputs": [],
      "source": [
        "## Pytorch\n",
        "# Deep learning primitives, neural network depth/width, activation functions and optimizers etc.\n",
        "# autograd - automatic differentiation engine that enables backward pass of your model to be done through a single function call\n",
        "# Tools to work at scale - TorchScript (serializable/optimizatble models), TorchServe (model serving solution),quantization\n",
        "# Associated libraries/data for computer vision, audio and text data (Ex. torchvision etc.)\n",
        "# Pytorch is written in C++\n",
        "# Strong online/open source community\n",
        "\n",
        "import torch\n",
        "import numpy as np\n",
        "import torch.nn as nn            # for torch.nn.Module, the parent object for PyTorch models\n",
        "import torch.nn.functional as F  # for the activation function"
      ]
    },
    {
      "cell_type": "markdown",
      "source": [
        "**Tensors (multidimensional array)**"
      ],
      "metadata": {
        "id": "9f5XzC3kuF87"
      }
    },
    {
      "cell_type": "code",
      "source": [
        "#Tensors are essentially multidimensional arrays (matrices)\n",
        "z = torch.zeros([5,3]) # torch tensor\n",
        "z_np = np.zeros([5,3]) # numpy array\n",
        "\n",
        "print(z)\n",
        "print(z.dtype)\n",
        "print(z_np.dtype)"
      ],
      "metadata": {
        "id": "0xqkbQyVuDLO",
        "outputId": "af36a4e1-c74b-4f12-91d8-198a7c0e6b7f",
        "colab": {
          "base_uri": "https://localhost:8080/"
        }
      },
      "execution_count": 1,
      "outputs": [
        {
          "output_type": "stream",
          "name": "stdout",
          "text": [
            "tensor([[0., 0., 0.],\n",
            "        [0., 0., 0.],\n",
            "        [0., 0., 0.],\n",
            "        [0., 0., 0.],\n",
            "        [0., 0., 0.]])\n",
            "[[0. 0. 0.]\n",
            " [0. 0. 0.]\n",
            " [0. 0. 0.]\n",
            " [0. 0. 0.]\n",
            " [0. 0. 0.]]\n",
            "torch.float32\n",
            "float64\n"
          ]
        }
      ]
    },
    {
      "cell_type": "code",
      "source": [
        "z_int = torch.ones((2,3),dtype = int) #overriding default datatype to integer\n",
        "print(z_int)"
      ],
      "metadata": {
        "colab": {
          "base_uri": "https://localhost:8080/"
        },
        "id": "27rhA3HY313l",
        "outputId": "75534ace-9b02-4bae-94c6-fb7dbb7acb77"
      },
      "execution_count": null,
      "outputs": [
        {
          "output_type": "stream",
          "name": "stdout",
          "text": [
            "tensor([[1, 1, 1],\n",
            "        [1, 1, 1]])\n"
          ]
        }
      ]
    },
    {
      "cell_type": "code",
      "source": [
        "# Seeding and pytorch's random number generator (PRND)\n",
        "\n",
        "torch.manual_seed(2025)\n",
        "z1 = torch.rand(2,3)\n",
        "print(\"First random tensor\")\n",
        "print(z1)\n",
        "\n",
        "z2 = torch.rand(2,3)\n",
        "print(\"\\nSecond random tensor (will be different from z1 because seed was not specified)\")\n",
        "print(z2)\n",
        "\n",
        "#repeats value because of re-seed\n",
        "torch.manual_seed(2025)\n",
        "z3 = torch.rand(2,3)\n",
        "print(\"\\nThird random tensor (should match first one)\")\n",
        "print(z3)\n",
        "\n",
        "# Further Reading -\n",
        "# Pytorch Quick Tip: Reproducible Results and Deterministic Behavior : https://youtu.be/1SZocGaCAr8?feature=shared\n",
        "# https://docs.pytorch.org/docs/stable/notes/randomness.html"
      ],
      "metadata": {
        "colab": {
          "base_uri": "https://localhost:8080/"
        },
        "id": "G8HdXfl04bvG",
        "outputId": "3af20388-178f-4b47-82f0-65edd39dc24e"
      },
      "execution_count": null,
      "outputs": [
        {
          "output_type": "stream",
          "name": "stdout",
          "text": [
            "First random tensor\n",
            "tensor([[0.6850, 0.9355, 0.2900],\n",
            "        [0.3991, 0.7470, 0.0215]])\n",
            "\n",
            "Second random tensor (will be different from z1 because seed was not specified)\n",
            "tensor([[0.0654, 0.7855, 0.3883],\n",
            "        [0.6340, 0.9447, 0.4773]])\n",
            "\n",
            "Third random tensor (should match first one)\n",
            "tensor([[0.6850, 0.9355, 0.2900],\n",
            "        [0.3991, 0.7470, 0.0215]])\n"
          ]
        }
      ]
    },
    {
      "cell_type": "code",
      "source": [
        "# Mathematical operations using Tensors\n",
        "\n",
        "tensor_1 = torch.rand (2,4) # tensor of random numbers from a uniform distribution on the interval [0,1)\n",
        "tensor_2 = torch.rand (2,4)\n",
        "\n",
        "# Addition happens elementwise. Both tensors must be of the same shape\n",
        "tensor_add = tensor_1 + tensor_2\n",
        "\n",
        "# Scalar multiplication happens elementwise\n",
        "tensor_sm = tensor_1*10\n",
        "\n",
        "\n",
        "print (\"Tensor 1 :\")\n",
        "print(tensor_1)\n",
        "print (\"\\nTensor 2 :\")\n",
        "print (tensor_2)\n",
        "print (\"\\nTensor addition :\")\n",
        "print(tensor_add)\n",
        "print (\"\\nScalar multiplication :\")\n",
        "print(tensor_sm)\n",
        "\n"
      ],
      "metadata": {
        "colab": {
          "base_uri": "https://localhost:8080/"
        },
        "id": "fuVhpE-F85Vy",
        "outputId": "df15e114-c197-4b75-f9cc-d21894e18180"
      },
      "execution_count": 14,
      "outputs": [
        {
          "output_type": "stream",
          "name": "stdout",
          "text": [
            "Tensor 1 :\n",
            "tensor([[0.6045, 0.9205, 0.1994, 0.4573],\n",
            "        [0.9114, 0.3792, 0.2024, 0.4636]])\n",
            "\n",
            "Tensor 2 :\n",
            "tensor([[0.2031, 0.0702, 0.0649, 0.0324],\n",
            "        [0.4256, 0.6001, 0.9934, 0.1961]])\n",
            "\n",
            "Tensor addition :\n",
            "tensor([[0.8076, 0.9907, 0.2643, 0.4897],\n",
            "        [1.3371, 0.9793, 1.1958, 0.6597]])\n",
            "\n",
            "Scalar multiplication :\n",
            "tensor([[6.0447, 9.2050, 1.9937, 4.5725],\n",
            "        [9.1143, 3.7924, 2.0243, 4.6360]])\n"
          ]
        }
      ]
    },
    {
      "cell_type": "code",
      "source": [
        "#Mathematical operations are available in pytorch...\n",
        "\n",
        "r = (torch.rand(2,2)-0.5)*2 #random values between -1 and 1\n",
        "print (\"\\nOriginal tensor :\")\n",
        "print(r)\n",
        "\n",
        "# Absolute value\n",
        "print (\"\\nAbsolute value :\")\n",
        "print(torch.abs(r))\n",
        "\n",
        "print (\"\\nTrignometric functions :\")\n",
        "# Trignometric functions\n",
        "print(torch.sin(r))\n",
        "\n",
        "# Averages\n",
        "print (\"\\nAverage value :\")\n",
        "print(torch.mean(r))\n",
        "\n",
        "# Standard deviation and mean together\n",
        "print (\"\\nStandard deviation with mean :\")\n",
        "print(torch.std_mean(r))\n",
        "\n",
        "# Max and min\n",
        "print (\"\\nMax & Min :\")\n",
        "print(torch.max(r))\n",
        "print(torch.min(r))\n",
        "\n",
        "# Determinant of a matrix\n",
        "print (\"\\nDeterminants :\")\n",
        "print(torch.det(r))\n",
        "\n",
        "# Matrix transpose\n",
        "print (\"\\nMatrix transpose :\")\n",
        "print(torch.t(r))\n",
        "# Singular value decomposition (Eigendecomposition)\n",
        "print (\"\\nSingular value decomposition :\")\n",
        "print(torch.svd(r))"
      ],
      "metadata": {
        "colab": {
          "base_uri": "https://localhost:8080/"
        },
        "id": "wF1wAHPgMOE6",
        "outputId": "e086f650-e23e-44a2-dcf4-fcb7cfa2666e"
      },
      "execution_count": 52,
      "outputs": [
        {
          "output_type": "stream",
          "name": "stdout",
          "text": [
            "\n",
            "Original tensor :\n",
            "tensor([[ 0.9170, -0.0254],\n",
            "        [-0.6485, -0.2652]])\n",
            "\n",
            "Absolute value :\n",
            "tensor([[0.9170, 0.0254],\n",
            "        [0.6485, 0.2652]])\n",
            "\n",
            "Trignometric functions :\n",
            "tensor([[ 0.7938, -0.0254],\n",
            "        [-0.6040, -0.2621]])\n",
            "\n",
            "Average value :\n",
            "tensor(-0.0055)\n",
            "\n",
            "Standard deviation with mean :\n",
            "(tensor(0.6664), tensor(-0.0055))\n",
            "\n",
            "Max & Min :\n",
            "tensor(0.9170)\n",
            "tensor(-0.6485)\n",
            "\n",
            "Determinants :\n",
            "tensor(-0.2596)\n",
            "\n",
            "Matrix transpose :\n",
            "tensor([[ 0.9170, -0.6485],\n",
            "        [-0.0254, -0.2652]])\n",
            "\n",
            "Singular value decomposition :\n",
            "torch.return_types.svd(\n",
            "U=tensor([[-0.8018,  0.5976],\n",
            "        [ 0.5976,  0.8018]]),\n",
            "S=tensor([1.1312, 0.2295]),\n",
            "V=tensor([[-0.9925,  0.1221],\n",
            "        [-0.1221, -0.9925]]))\n"
          ]
        }
      ]
    },
    {
      "cell_type": "code",
      "source": [
        "## Basic convolutional neural network\n",
        "class LeNet(nn.Module):\n",
        "\n",
        "    def __init__(self):\n",
        "        super(LeNet, self).__init__()\n",
        "        # 1 input image channel (black & white), 6 output channels, 3x3 square convolution\n",
        "        # kernel\n",
        "        self.conv1 = nn.Conv2d(1, 6, 3)\n",
        "        self.conv2 = nn.Conv2d(6, 16, 3)\n",
        "        # an affine operation: y = Wx + b\n",
        "        self.fc1 = nn.Linear(16 * 6 * 6, 120)  # 6*6 from image dimension\n",
        "        self.fc2 = nn.Linear(120, 84)\n",
        "        self.fc3 = nn.Linear(84, 10)\n",
        "\n",
        "    def forward(self, x):\n",
        "        # Max pooling over a (2, 2) window\n",
        "        x = F.max_pool2d(F.relu(self.conv1(x)), (2, 2))\n",
        "        # If the size is a square you can only specify a single number\n",
        "        x = F.max_pool2d(F.relu(self.conv2(x)), 2)\n",
        "        x = x.view(-1, self.num_flat_features(x))\n",
        "        x = F.relu(self.fc1(x))\n",
        "        x = F.relu(self.fc2(x))\n",
        "        x = self.fc3(x)\n",
        "        return x\n",
        "\n",
        "    def num_flat_features(self, x):\n",
        "        size = x.size()[1:]  # all dimensions except the batch dimension\n",
        "        num_features = 1\n",
        "        for s in size:\n",
        "            num_features *= s\n",
        "        return num_features"
      ],
      "metadata": {
        "id": "BFAa64sxi-VQ"
      },
      "execution_count": 3,
      "outputs": []
    },
    {
      "cell_type": "code",
      "source": [
        "net = LeNet()\n",
        "print(net)\n",
        "\n",
        "input = torch.rand(1, 1, 32, 32)   # stand-in for a 32x32 black & white image\n",
        "print('\\nImage batch shape:')\n",
        "print(input.shape)\n",
        "\n",
        "output = net(input)                # we don't call forward() directly\n",
        "print('\\nRaw output:')\n",
        "print(output)\n",
        "print(output.shape)"
      ],
      "metadata": {
        "colab": {
          "base_uri": "https://localhost:8080/"
        },
        "id": "dAKSyLnMjCLU",
        "outputId": "b2b9ec70-6d78-4a4d-a44b-b67d288a5091"
      },
      "execution_count": 4,
      "outputs": [
        {
          "output_type": "stream",
          "name": "stdout",
          "text": [
            "LeNet(\n",
            "  (conv1): Conv2d(1, 6, kernel_size=(3, 3), stride=(1, 1))\n",
            "  (conv2): Conv2d(6, 16, kernel_size=(3, 3), stride=(1, 1))\n",
            "  (fc1): Linear(in_features=576, out_features=120, bias=True)\n",
            "  (fc2): Linear(in_features=120, out_features=84, bias=True)\n",
            "  (fc3): Linear(in_features=84, out_features=10, bias=True)\n",
            ")\n",
            "\n",
            "Image batch shape:\n",
            "torch.Size([1, 1, 32, 32])\n",
            "\n",
            "Raw output:\n",
            "tensor([[ 0.0564,  0.0527,  0.0010,  0.0387,  0.0135, -0.0837,  0.0166, -0.1310,\n",
            "          0.0821,  0.0895]], grad_fn=<AddmmBackward0>)\n",
            "torch.Size([1, 10])\n"
          ]
        }
      ]
    },
    {
      "cell_type": "code",
      "source": [
        "# Datasets\n",
        "import torchvision\n",
        "import torchvision.transforms as transforms #transforms for images to make them ready for ingestion by our pytorch models"
      ],
      "metadata": {
        "id": "cMbPSU9mjp7j"
      },
      "execution_count": 3,
      "outputs": []
    },
    {
      "cell_type": "code",
      "source": [
        "transform = transforms.Compose(\n",
        "    [transforms.ToTensor(), #converts images loaded into PyTorch tensors\n",
        "     transforms.Normalize((0.5,0.5,0.5),(0.5,0.5,0.5))]) #Normalize adjusts value of tensors for a specific mean and standard deviation\n",
        "\n",
        "# Besides the above, there are many transformations available and see documentation linked below for more\n",
        "# https://docs.pytorch.org/vision/stable/auto_examples/transforms/plot_transforms_getting_started.html#sphx-glr-auto-examples-transforms-plot-transforms-getting-started-py"
      ],
      "metadata": {
        "id": "cmZgBh3Yovd-"
      },
      "execution_count": 4,
      "outputs": []
    },
    {
      "cell_type": "code",
      "source": [
        "# Creating an instance of the CIFAR10 dataset.\n",
        "# This is a set of 32x32 color image tiles representing 10 classes of objects\n",
        "# 6 of animals (bird, cat, deer, dog, frog, horse) and 4 of vehicles (airplane, automobile, ship, truck\n",
        "# https://www.cs.toronto.edu/~kriz/cifar.html\n",
        "\n",
        "trainset = torchvision.datasets.CIFAR10(root='./data', train=True,\n",
        "                                        download=True, transform=transform)\n",
        "\n",
        "# `Dataset` classes in PyTorch include the downloadable datasets in TorchVision, Torchtext, and TorchAudio,\n",
        "# as well as utility dataset classes such as `torchvision.datasets.ImageFolder`, which will read a folder of labeled images.\n",
        "# We can also create your own subclasses of `Dataset`.\n",
        "\n",
        "#When we instantiate our dataset, we need to tell it a few things:\n",
        "# * The filesystem path to where we want the data to go\n",
        "#* Whether or not we are using this set for training; most datasets will be split into training and test subsets.\n",
        "#* Whether we would like to download the dataset if we haven't already\n",
        "#* The transformations we want to apply to the data\n",
        "\n",
        "# Once the dataset is ready, we give it to the `DataLoader'"
      ],
      "metadata": {
        "colab": {
          "base_uri": "https://localhost:8080/"
        },
        "id": "cBOP-B4-p8dg",
        "outputId": "41fef61b-b0ff-4b59-94bd-44d677ab19b7"
      },
      "execution_count": 5,
      "outputs": [
        {
          "output_type": "stream",
          "name": "stderr",
          "text": [
            "100%|██████████| 170M/170M [00:03<00:00, 43.2MB/s]\n"
          ]
        }
      ]
    },
    {
      "cell_type": "code",
      "source": [
        "# DataLoader feeds batches of data to the model\n",
        "trainloader = torch.utils.data.DataLoader(trainset, batch_size=4,\n",
        "                                          shuffle=True, num_workers=2)\n",
        "\n",
        "# A `Dataset` subclass wraps access to the data, and is specialized to the type of data it's serving.\n",
        "# The `DataLoader` knows *nothing* about the data, but organizes the input tensors served by the `Dataset` into batches with the parameters you specify.\n",
        "# In the example above, we've asked a `DataLoader` to give us batches of 4 images from `trainset`, randomizing their order (`shuffle=True`).\n",
        "# Additionally, we spin up two workers to load data from disk."
      ],
      "metadata": {
        "id": "dpsuKfP8owJC"
      },
      "execution_count": 6,
      "outputs": []
    },
    {
      "cell_type": "code",
      "source": [
        "# It's good practice to visualize the batches your `DataLoader` serves...\n",
        "\n",
        "import matplotlib.pyplot as plt\n",
        "import numpy as np\n",
        "\n",
        "classes = ('plane', 'car', 'bird', 'cat',\n",
        "           'deer', 'dog', 'frog', 'horse', 'ship', 'truck')\n",
        "\n",
        "def imshow(img):\n",
        "    img = img / 2 + 0.5     # unnormalize\n",
        "    npimg = img.numpy()\n",
        "    plt.imshow(np.transpose(npimg, (1, 2, 0)))\n",
        "\n",
        "\n",
        "# get some random training images\n",
        "dataiter = iter(trainloader)\n",
        "images, labels = next(dataiter)\n",
        "\n",
        "# show images\n",
        "imshow(torchvision.utils.make_grid(images))\n",
        "# print labels\n",
        "print(' '.join('%5s' % classes[labels[j]] for j in range(4)))"
      ],
      "metadata": {
        "colab": {
          "base_uri": "https://localhost:8080/",
          "height": 211
        },
        "id": "9-XxTnZuc3rR",
        "outputId": "851694b1-872e-45b8-f24d-91e052bb686f"
      },
      "execution_count": 8,
      "outputs": [
        {
          "output_type": "stream",
          "name": "stdout",
          "text": [
            " deer  bird   dog truck\n"
          ]
        },
        {
          "output_type": "display_data",
          "data": {
            "text/plain": [
              "<Figure size 640x480 with 1 Axes>"
            ],
            "image/png": "[encoded data removed]"
          },
          "metadata": {}
        }
      ]
    },
    {
      "cell_type": "markdown",
      "source": [
        "Training a model"
      ],
      "metadata": {
        "id": "XT__BmBkeMpv"
      }
    },
    {
      "cell_type": "code",
      "source": [
        "## Autograd (backpropagation)\n"
      ],
      "metadata": {
        "id": "61z2bVZObiLQ"
      },
      "execution_count": null,
      "outputs": []
    },
    {
      "cell_type": "code",
      "source": [],
      "metadata": {
        "id": "QzeMCrsdjpiA"
      },
      "execution_count": null,
      "outputs": []
    }
  ]
}