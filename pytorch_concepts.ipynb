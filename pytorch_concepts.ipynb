{
  "nbformat": 4,
  "nbformat_minor": 0,
  "metadata": {
    "colab": {
      "provenance": [],
      "authorship_tag": "ABX9TyMHURalMXRDf4tfSi9lxSGA",
      "include_colab_link": true
    },
    "kernelspec": {
      "name": "python3",
      "display_name": "Python 3"
    },
    "language_info": {
      "name": "python"
    }
  },
  "cells": [
    {
      "cell_type": "markdown",
      "metadata": {
        "id": "view-in-github",
        "colab_type": "text"
      },
      "source": [
        "<a href=\"https://colab.research.google.com/github/taruvaid/Fourier-Neural-Operators/blob/main/pytorch_concepts.ipynb\" target=\"_parent\"><img src=\"https://colab.research.google.com/assets/colab-badge.svg\" alt=\"Open In Colab\"/></a>"
      ]
    },
    {
      "cell_type": "code",
      "execution_count": null,
      "metadata": {
        "id": "XNkRxm8HsuJZ"
      },
      "outputs": [],
      "source": [
        "## Pytorch\n",
        "# Deep learning primitives, neural network depth/width, activation functions and optimizers etc.\n",
        "# autograd - automatic differentiation engine that enables backward pass of your model to be done through a single function call\n",
        "# Tools to work at scale - TorchScript (serializable/optimizatble models), TorchServe (model serving solution),quantization\n",
        "# Associated libraries/data for computer vision, audio and text data (Ex. torchvision etc.)\n",
        "# Pytorch is written in C++\n",
        "# Strong online/open source community\n",
        "\n",
        "import torch"
      ]
    }
  ]
}