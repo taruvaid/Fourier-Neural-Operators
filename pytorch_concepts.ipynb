{
  "nbformat": 4,
  "nbformat_minor": 0,
  "metadata": {
    "colab": {
      "provenance": [],
      "authorship_tag": "ABX9TyMOHvNyRtJcBmuYSUaQU9h7",
      "include_colab_link": true
    },
    "kernelspec": {
      "name": "python3",
      "display_name": "Python 3"
    },
    "language_info": {
      "name": "python"
    }
  },
  "cells": [
    {
      "cell_type": "markdown",
      "metadata": {
        "id": "view-in-github",
        "colab_type": "text"
      },
      "source": [
        "<a href=\"https://colab.research.google.com/github/taruvaid/Fourier-Neural-Operators/blob/main/pytorch_concepts.ipynb\" target=\"_parent\"><img src=\"https://colab.research.google.com/assets/colab-badge.svg\" alt=\"Open In Colab\"/></a>"
      ]
    },
    {
      "cell_type": "code",
      "execution_count": 12,
      "metadata": {
        "id": "XNkRxm8HsuJZ"
      },
      "outputs": [],
      "source": [
        "## Pytorch\n",
        "# Deep learning primitives, neural network depth/width, activation functions and optimizers etc.\n",
        "# autograd - automatic differentiation engine that enables backward pass of your model to be done through a single function call\n",
        "# Tools to work at scale - TorchScript (serializable/optimizatble models), TorchServe (model serving solution),quantization\n",
        "# Associated libraries/data for computer vision, audio and text data (Ex. torchvision etc.)\n",
        "# Pytorch is written in C++\n",
        "# Strong online/open source community\n",
        "\n",
        "import torch\n",
        "import numpy as np"
      ]
    },
    {
      "cell_type": "markdown",
      "source": [
        "**Tensors (multidimensional array)**"
      ],
      "metadata": {
        "id": "9f5XzC3kuF87"
      }
    },
    {
      "cell_type": "code",
      "source": [
        "z = torch.zeros([5,3]) # z = torch.zeros(5,3)\n",
        "z_np = np.zeros([5,3]) # numpy array\n",
        "print(z)\n",
        "print(z.dtype)\n",
        "print(z_np.dtype)"
      ],
      "metadata": {
        "id": "0xqkbQyVuDLO",
        "outputId": "9d5a7cb4-9163-4a02-b210-d89b9e6ef97f",
        "colab": {
          "base_uri": "https://localhost:8080/"
        }
      },
      "execution_count": null,
      "outputs": [
        {
          "output_type": "stream",
          "name": "stdout",
          "text": [
            "tensor([[0., 0., 0.],\n",
            "        [0., 0., 0.],\n",
            "        [0., 0., 0.],\n",
            "        [0., 0., 0.],\n",
            "        [0., 0., 0.]])\n",
            "torch.float32\n",
            "float64\n"
          ]
        }
      ]
    },
    {
      "cell_type": "code",
      "source": [
        "z_int = torch.ones((2,3),dtype = int) #overriding default datatype to integer\n",
        "print(z_int)"
      ],
      "metadata": {
        "colab": {
          "base_uri": "https://localhost:8080/"
        },
        "id": "27rhA3HY313l",
        "outputId": "75534ace-9b02-4bae-94c6-fb7dbb7acb77"
      },
      "execution_count": 17,
      "outputs": [
        {
          "output_type": "stream",
          "name": "stdout",
          "text": [
            "tensor([[1, 1, 1],\n",
            "        [1, 1, 1]])\n"
          ]
        }
      ]
    },
    {
      "cell_type": "code",
      "source": [
        "# Seeding and pytorch's random number generator (PRND)\n",
        "\n",
        "torch.manual_seed(2025)\n",
        "z1 = torch.rand(2,3)\n",
        "print(\"First random tensor\")\n",
        "print(z1)\n",
        "\n",
        "z2 = torch.rand(2,3)\n",
        "print(\"\\nSecond random tensor (will be different from z1 because seed was not specified)\")\n",
        "print(z2)\n",
        "\n",
        "#repeats value because of re-seed\n",
        "torch.manual_seed(2025)\n",
        "z3 = torch.rand(2,3)\n",
        "print(\"\\nThird random tensor (should match first one)\")\n",
        "print(z3)\n",
        "\n",
        "# Further Reading -\n",
        "# Pytorch Quick Tip: Reproducible Results and Deterministic Behavior : https://youtu.be/1SZocGaCAr8?feature=shared\n",
        "# https://docs.pytorch.org/docs/stable/notes/randomness.html"
      ],
      "metadata": {
        "colab": {
          "base_uri": "https://localhost:8080/"
        },
        "id": "G8HdXfl04bvG",
        "outputId": "3af20388-178f-4b47-82f0-65edd39dc24e"
      },
      "execution_count": 19,
      "outputs": [
        {
          "output_type": "stream",
          "name": "stdout",
          "text": [
            "First random tensor\n",
            "tensor([[0.6850, 0.9355, 0.2900],\n",
            "        [0.3991, 0.7470, 0.0215]])\n",
            "\n",
            "Second random tensor (will be different from z1 because seed was not specified)\n",
            "tensor([[0.0654, 0.7855, 0.3883],\n",
            "        [0.6340, 0.9447, 0.4773]])\n",
            "\n",
            "Third random tensor (should match first one)\n",
            "tensor([[0.6850, 0.9355, 0.2900],\n",
            "        [0.3991, 0.7470, 0.0215]])\n"
          ]
        }
      ]
    }
  ]
}