{
 "cells": [
  {
   "cell_type": "code",
   "execution_count": null,
   "id": "88743b16",
   "metadata": {},
   "outputs": [],
   "source": [
    "##Pytorch "
   ]
  }
 ],
 "metadata": {
  "language_info": {
   "name": "python"
  }
 },
 "nbformat": 4,
 "nbformat_minor": 5
}
