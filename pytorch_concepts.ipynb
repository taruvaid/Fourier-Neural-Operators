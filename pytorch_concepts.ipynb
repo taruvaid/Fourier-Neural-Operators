{
  "nbformat": 4,
  "nbformat_minor": 0,
  "metadata": {
    "colab": {
      "provenance": [],
      "authorship_tag": "ABX9TyP7eoCFeZ5/JYzATwN3h1hx",
      "include_colab_link": true
    },
    "kernelspec": {
      "name": "python3",
      "display_name": "Python 3"
    },
    "language_info": {
      "name": "python"
    }
  },
  "cells": [
    {
      "cell_type": "markdown",
      "metadata": {
        "id": "view-in-github",
        "colab_type": "text"
      },
      "source": [
        "<a href=\"https://colab.research.google.com/github/taruvaid/Fourier-Neural-Operators/blob/main/pytorch_concepts.ipynb\" target=\"_parent\"><img src=\"https://colab.research.google.com/assets/colab-badge.svg\" alt=\"Open In Colab\"/></a>"
      ]
    },
    {
      "cell_type": "code",
      "execution_count": 2,
      "metadata": {
        "id": "XNkRxm8HsuJZ"
      },
      "outputs": [],
      "source": [
        "## Pytorch\n",
        "# Deep learning primitives, neural network depth/width, activation functions and optimizers etc.\n",
        "# autograd - automatic differentiation engine that enables backward pass of your model to be done through a single function call\n",
        "# Tools to work at scale - TorchScript (serializable/optimizatble models), TorchServe (model serving solution),quantization\n",
        "# Associated libraries/data for computer vision, audio and text data (Ex. torchvision etc.)\n",
        "# Pytorch is written in C++\n",
        "# Strong online/open source community\n",
        "\n",
        "import torch\n",
        "import numpy as np"
      ]
    },
    {
      "cell_type": "markdown",
      "source": [
        "**Tensors (multidimensional array)**"
      ],
      "metadata": {
        "id": "9f5XzC3kuF87"
      }
    },
    {
      "cell_type": "code",
      "source": [
        "#Tensors are essentially multidimensional arrays (matrices)\n",
        "z = torch.zeros([5,3]) # torch tensor\n",
        "z_np = np.zeros([5,3]) # numpy array\n",
        "\n",
        "print(z)\n",
        "print(z.dtype)\n",
        "print(z_np.dtype)"
      ],
      "metadata": {
        "id": "0xqkbQyVuDLO",
        "outputId": "af36a4e1-c74b-4f12-91d8-198a7c0e6b7f",
        "colab": {
          "base_uri": "https://localhost:8080/"
        }
      },
      "execution_count": 1,
      "outputs": [
        {
          "output_type": "stream",
          "name": "stdout",
          "text": [
            "tensor([[0., 0., 0.],\n",
            "        [0., 0., 0.],\n",
            "        [0., 0., 0.],\n",
            "        [0., 0., 0.],\n",
            "        [0., 0., 0.]])\n",
            "[[0. 0. 0.]\n",
            " [0. 0. 0.]\n",
            " [0. 0. 0.]\n",
            " [0. 0. 0.]\n",
            " [0. 0. 0.]]\n",
            "torch.float32\n",
            "float64\n"
          ]
        }
      ]
    },
    {
      "cell_type": "code",
      "source": [
        "z_int = torch.ones((2,3),dtype = int) #overriding default datatype to integer\n",
        "print(z_int)"
      ],
      "metadata": {
        "colab": {
          "base_uri": "https://localhost:8080/"
        },
        "id": "27rhA3HY313l",
        "outputId": "75534ace-9b02-4bae-94c6-fb7dbb7acb77"
      },
      "execution_count": null,
      "outputs": [
        {
          "output_type": "stream",
          "name": "stdout",
          "text": [
            "tensor([[1, 1, 1],\n",
            "        [1, 1, 1]])\n"
          ]
        }
      ]
    },
    {
      "cell_type": "code",
      "source": [
        "# Seeding and pytorch's random number generator (PRND)\n",
        "\n",
        "torch.manual_seed(2025)\n",
        "z1 = torch.rand(2,3)\n",
        "print(\"First random tensor\")\n",
        "print(z1)\n",
        "\n",
        "z2 = torch.rand(2,3)\n",
        "print(\"\\nSecond random tensor (will be different from z1 because seed was not specified)\")\n",
        "print(z2)\n",
        "\n",
        "#repeats value because of re-seed\n",
        "torch.manual_seed(2025)\n",
        "z3 = torch.rand(2,3)\n",
        "print(\"\\nThird random tensor (should match first one)\")\n",
        "print(z3)\n",
        "\n",
        "# Further Reading -\n",
        "# Pytorch Quick Tip: Reproducible Results and Deterministic Behavior : https://youtu.be/1SZocGaCAr8?feature=shared\n",
        "# https://docs.pytorch.org/docs/stable/notes/randomness.html"
      ],
      "metadata": {
        "colab": {
          "base_uri": "https://localhost:8080/"
        },
        "id": "G8HdXfl04bvG",
        "outputId": "3af20388-178f-4b47-82f0-65edd39dc24e"
      },
      "execution_count": null,
      "outputs": [
        {
          "output_type": "stream",
          "name": "stdout",
          "text": [
            "First random tensor\n",
            "tensor([[0.6850, 0.9355, 0.2900],\n",
            "        [0.3991, 0.7470, 0.0215]])\n",
            "\n",
            "Second random tensor (will be different from z1 because seed was not specified)\n",
            "tensor([[0.0654, 0.7855, 0.3883],\n",
            "        [0.6340, 0.9447, 0.4773]])\n",
            "\n",
            "Third random tensor (should match first one)\n",
            "tensor([[0.6850, 0.9355, 0.2900],\n",
            "        [0.3991, 0.7470, 0.0215]])\n"
          ]
        }
      ]
    },
    {
      "cell_type": "code",
      "source": [
        "# Mathematical operations using Tensors\n",
        "\n",
        "tensor_1 = torch.rand (2,4) # tensor of random numbers from a uniform distribution on the interval [0,1)\n",
        "tensor_2 = torch.rand (2,4)\n",
        "\n",
        "# Addition happens elementwise. Both tensors must be of the same shape\n",
        "tensor_add = tensor_1 + tensor_2\n",
        "\n",
        "# Scalar multiplication happens elementwise\n",
        "tensor_sm = tensor_1*10\n",
        "\n",
        "\n",
        "print (\"Tensor 1 :\")\n",
        "print(tensor_1)\n",
        "print (\"\\nTensor 2 :\")\n",
        "print (tensor_2)\n",
        "print (\"\\nTensor addition :\")\n",
        "print(tensor_add)\n",
        "print (\"\\nScalar multiplication :\")\n",
        "print(tensor_sm)\n",
        "\n"
      ],
      "metadata": {
        "colab": {
          "base_uri": "https://localhost:8080/"
        },
        "id": "fuVhpE-F85Vy",
        "outputId": "df15e114-c197-4b75-f9cc-d21894e18180"
      },
      "execution_count": 14,
      "outputs": [
        {
          "output_type": "stream",
          "name": "stdout",
          "text": [
            "Tensor 1 :\n",
            "tensor([[0.6045, 0.9205, 0.1994, 0.4573],\n",
            "        [0.9114, 0.3792, 0.2024, 0.4636]])\n",
            "\n",
            "Tensor 2 :\n",
            "tensor([[0.2031, 0.0702, 0.0649, 0.0324],\n",
            "        [0.4256, 0.6001, 0.9934, 0.1961]])\n",
            "\n",
            "Tensor addition :\n",
            "tensor([[0.8076, 0.9907, 0.2643, 0.4897],\n",
            "        [1.3371, 0.9793, 1.1958, 0.6597]])\n",
            "\n",
            "Scalar multiplication :\n",
            "tensor([[6.0447, 9.2050, 1.9937, 4.5725],\n",
            "        [9.1143, 3.7924, 2.0243, 4.6360]])\n"
          ]
        }
      ]
    },
    {
      "cell_type": "code",
      "source": [
        "#Several mathematical operations are available in pytorch...\n",
        "\n",
        "r = (torch.rand(2,2)-0.5)*2 #random values between -1 and 1\n",
        "print (\"\\nOriginal tensor :\")\n",
        "print(r)\n",
        "\n",
        "# Absolute value\n",
        "print (\"\\nAbsolute value :\")\n",
        "print(torch.abs(r))\n",
        "\n",
        "print (\"\\nTrignometric functions :\")\n",
        "# Trignometric functions\n",
        "print(torch.sin(r))\n",
        "\n",
        "# Averages\n",
        "print (\"\\nAverage value :\")\n",
        "print(torch.mean(r))\n",
        "\n",
        "# Standard deviation and mean together\n",
        "print (\"\\nStandard deviation with mean :\")\n",
        "print(torch.std_mean(r))\n",
        "\n",
        "# Max and min\n",
        "print (\"\\nMax & Min :\")\n",
        "print(torch.max(r))\n",
        "print(torch.min(r))\n",
        "\n",
        "# Determinant of a matrix\n",
        "print (\"\\nDeterminants :\")\n",
        "print(torch.det(r))\n",
        "\n",
        "# Matrix transpose\n",
        "print (\"\\nMatrix transpose :\")\n",
        "print(torch.t(r))\n",
        "# Singular value decomposition (Eigendecomposition)\n",
        "print (\"\\nSingular value decomposition :\")\n",
        "print(torch.svd(r))"
      ],
      "metadata": {
        "id": "wF1wAHPgMOE6",
        "outputId": "3095d506-7f36-4845-a363-255dedfeb1a1",
        "colab": {
          "base_uri": "https://localhost:8080/"
        }
      },
      "execution_count": 51,
      "outputs": [
        {
          "output_type": "stream",
          "name": "stdout",
          "text": [
            "\n",
            "Original tensor :\n",
            "tensor([[-0.4014, -0.1172],\n",
            "        [ 0.1306,  0.5298]])\n",
            "\n",
            "Absolute value :\n",
            "tensor([[0.4014, 0.1172],\n",
            "        [0.1306, 0.5298]])\n",
            "\n",
            "Trignometric functions :\n",
            "tensor([[-0.3907, -0.1170],\n",
            "        [ 0.1302,  0.5054]])\n",
            "\n",
            "Average value :\n",
            "tensor(0.0355)\n",
            "\n",
            "Standard deviation with mean :\n",
            "(tensor(0.3948), tensor(0.0355))\n",
            "\n",
            "Max & Min :\n",
            "tensor(0.5298)\n",
            "tensor(-0.4014)\n",
            "\n",
            "Determinants :\n",
            "tensor(-0.1974)\n",
            "\n",
            "Matrix transpose :\n",
            "tensor([[-0.4014,  0.1306],\n",
            "        [-0.1172,  0.5298]])\n",
            "\n",
            "Singular value decomposition :\n",
            "torch.return_types.svd(\n",
            "U=tensor([[-0.5134,  0.8581],\n",
            "        [ 0.8581,  0.5134]]),\n",
            "S=tensor([0.6052, 0.3261]),\n",
            "V=tensor([[ 0.5257, -0.8507],\n",
            "        [ 0.8507,  0.5257]]))\n"
          ]
        }
      ]
    }
  ]
}